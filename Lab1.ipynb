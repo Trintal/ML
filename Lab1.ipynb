{
  "nbformat": 4,
  "nbformat_minor": 0,
  "metadata": {
    "colab": {
      "name": "Untitled1.ipynb",
      "provenance": [],
      "include_colab_link": true
    },
    "kernelspec": {
      "name": "python3",
      "display_name": "Python 3"
    }
  },
  "cells": [
    {
      "cell_type": "markdown",
      "metadata": {
        "id": "view-in-github",
        "colab_type": "text"
      },
      "source": [
        "<a href=\"https://colab.research.google.com/github/l-bat/ml/blob/master/Lab11.ipynb\" target=\"_parent\"><img src=\"https://colab.research.google.com/assets/colab-badge.svg\" alt=\"Open In Colab\"/></a>"
      ]
    },
    {
      "cell_type": "markdown",
      "metadata": {
        "id": "kUchpgqYSQoX",
        "colab_type": "text"
      },
      "source": [
        "# Лабораторная работа 1"
      ]
    },
    {
      "cell_type": "code",
      "metadata": {
        "id": "yl0Atc-ISu_L",
        "colab_type": "code",
        "colab": {}
      },
      "source": [
        "import numpy as np\n",
        "import matplotlib.pyplot as plt\n",
        "import pandas as pd\n",
        "%matplotlib inline"
      ],
      "execution_count": 0,
      "outputs": []
    },
    {
      "cell_type": "code",
      "metadata": {
        "id": "vx0bb85ZSPNK",
        "colab_type": "code",
        "colab": {
          "resources": {
            "http://localhost:8080/nbextensions/google.colab/files.js": {
              "data": "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",
              "ok": true,
              "headers": [
                [
                  "content-type",
                  "application/javascript"
                ]
              ],
              "status": 200,
              "status_text": "OK"
            }
          },
          "base_uri": "https://localhost:8080/",
          "height": 80
        },
        "outputId": "115cb6df-b927-48da-90c2-841079436652"
      },
      "source": [
        "from google.colab import files\n",
        "uploaded = files.upload()"
      ],
      "execution_count": 3,
      "outputs": [
        {
          "output_type": "display_data",
          "data": {
            "text/html": [
              "\n",
              "     <input type=\"file\" id=\"files-d9719708-2b97-401e-a688-66ad0316663b\" name=\"files[]\" multiple disabled />\n",
              "     <output id=\"result-d9719708-2b97-401e-a688-66ad0316663b\">\n",
              "      Upload widget is only available when the cell has been executed in the\n",
              "      current browser session. Please rerun this cell to enable.\n",
              "      </output>\n",
              "      <script src=\"/nbextensions/google.colab/files.js\"></script> "
            ],
            "text/plain": [
              "<IPython.core.display.HTML object>"
            ]
          },
          "metadata": {
            "tags": []
          }
        },
        {
          "output_type": "stream",
          "text": [
            "Saving datatest.txt to datatest.txt\n"
          ],
          "name": "stdout"
        }
      ]
    },
    {
      "cell_type": "code",
      "metadata": {
        "id": "fF_MaYMkUdOI",
        "colab_type": "code",
        "colab": {}
      },
      "source": [
        "data = pd.read_csv('datatest.txt')"
      ],
      "execution_count": 0,
      "outputs": []
    },
    {
      "cell_type": "code",
      "metadata": {
        "id": "V8xuZP6mUmpe",
        "colab_type": "code",
        "colab": {
          "base_uri": "https://localhost:8080/",
          "height": 206
        },
        "outputId": "19fed6e4-59ab-41e9-d3e4-15b1bd6100a2"
      },
      "source": [
        "data.head()"
      ],
      "execution_count": 45,
      "outputs": [
        {
          "output_type": "execute_result",
          "data": {
            "text/html": [
              "<div>\n",
              "<style scoped>\n",
              "    .dataframe tbody tr th:only-of-type {\n",
              "        vertical-align: middle;\n",
              "    }\n",
              "\n",
              "    .dataframe tbody tr th {\n",
              "        vertical-align: top;\n",
              "    }\n",
              "\n",
              "    .dataframe thead th {\n",
              "        text-align: right;\n",
              "    }\n",
              "</style>\n",
              "<table border=\"1\" class=\"dataframe\">\n",
              "  <thead>\n",
              "    <tr style=\"text-align: right;\">\n",
              "      <th></th>\n",
              "      <th>date</th>\n",
              "      <th>Temperature</th>\n",
              "      <th>Humidity</th>\n",
              "      <th>Light</th>\n",
              "      <th>CO2</th>\n",
              "      <th>HumidityRatio</th>\n",
              "      <th>Occupancy</th>\n",
              "    </tr>\n",
              "  </thead>\n",
              "  <tbody>\n",
              "    <tr>\n",
              "      <th>140</th>\n",
              "      <td>2015-02-02 14:19:00</td>\n",
              "      <td>23.7000</td>\n",
              "      <td>26.272</td>\n",
              "      <td>585.200000</td>\n",
              "      <td>749.200000</td>\n",
              "      <td>0.004764</td>\n",
              "      <td>1</td>\n",
              "    </tr>\n",
              "    <tr>\n",
              "      <th>141</th>\n",
              "      <td>2015-02-02 14:19:59</td>\n",
              "      <td>23.7180</td>\n",
              "      <td>26.290</td>\n",
              "      <td>578.400000</td>\n",
              "      <td>760.400000</td>\n",
              "      <td>0.004773</td>\n",
              "      <td>1</td>\n",
              "    </tr>\n",
              "    <tr>\n",
              "      <th>142</th>\n",
              "      <td>2015-02-02 14:21:00</td>\n",
              "      <td>23.7300</td>\n",
              "      <td>26.230</td>\n",
              "      <td>572.666667</td>\n",
              "      <td>769.666667</td>\n",
              "      <td>0.004765</td>\n",
              "      <td>1</td>\n",
              "    </tr>\n",
              "    <tr>\n",
              "      <th>143</th>\n",
              "      <td>2015-02-02 14:22:00</td>\n",
              "      <td>23.7225</td>\n",
              "      <td>26.125</td>\n",
              "      <td>493.750000</td>\n",
              "      <td>774.750000</td>\n",
              "      <td>0.004744</td>\n",
              "      <td>1</td>\n",
              "    </tr>\n",
              "    <tr>\n",
              "      <th>144</th>\n",
              "      <td>2015-02-02 14:23:00</td>\n",
              "      <td>23.7540</td>\n",
              "      <td>26.200</td>\n",
              "      <td>488.600000</td>\n",
              "      <td>779.000000</td>\n",
              "      <td>0.004767</td>\n",
              "      <td>1</td>\n",
              "    </tr>\n",
              "  </tbody>\n",
              "</table>\n",
              "</div>"
            ],
            "text/plain": [
              "                    date  Temperature  ...  HumidityRatio  Occupancy\n",
              "140  2015-02-02 14:19:00      23.7000  ...       0.004764          1\n",
              "141  2015-02-02 14:19:59      23.7180  ...       0.004773          1\n",
              "142  2015-02-02 14:21:00      23.7300  ...       0.004765          1\n",
              "143  2015-02-02 14:22:00      23.7225  ...       0.004744          1\n",
              "144  2015-02-02 14:23:00      23.7540  ...       0.004767          1\n",
              "\n",
              "[5 rows x 7 columns]"
            ]
          },
          "metadata": {
            "tags": []
          },
          "execution_count": 45
        }
      ]
    },
    {
      "cell_type": "markdown",
      "metadata": {
        "id": "75Hi-hrfSXUz",
        "colab_type": "text"
      },
      "source": [
        "**Описание данных *Occupancy Detection Data Set*:**\n",
        "\n",
        "* Дата: год-месяц-день час:минута:секунда\n",
        "* Температура, в градусах Цельсия\n",
        "* Относительная влажность, %\n",
        "* Свет, в Lux\n",
        "* CO2, в ppm\n",
        "* Влажность, рассчитывается с использованием температуры и относительной влажности, в kgwater-vapor/kg-air\n",
        "* Занятость комнаты: {0, 1}, 0 - не занята, 1 - занята\n"
      ]
    },
    {
      "cell_type": "code",
      "metadata": {
        "id": "w6ecFa4CTKY3",
        "colab_type": "code",
        "colab": {
          "base_uri": "https://localhost:8080/",
          "height": 34
        },
        "outputId": "e6c1a4d0-c79c-4347-cd78-78488ba47742"
      },
      "source": [
        "data.shape"
      ],
      "execution_count": 9,
      "outputs": [
        {
          "output_type": "execute_result",
          "data": {
            "text/plain": [
              "(2665, 7)"
            ]
          },
          "metadata": {
            "tags": []
          },
          "execution_count": 9
        }
      ]
    },
    {
      "cell_type": "markdown",
      "metadata": {
        "id": "GNoCRRo8wu4x",
        "colab_type": "text"
      },
      "source": [
        "Выведем названия столбцов"
      ]
    },
    {
      "cell_type": "code",
      "metadata": {
        "id": "wkViLyiqwnSA",
        "colab_type": "code",
        "colab": {
          "base_uri": "https://localhost:8080/",
          "height": 69
        },
        "outputId": "37d7251e-a9b8-4782-a8d0-ff92bf68a3c6"
      },
      "source": [
        "data.columns"
      ],
      "execution_count": 14,
      "outputs": [
        {
          "output_type": "execute_result",
          "data": {
            "text/plain": [
              "Index(['date', 'Temperature', 'Humidity', 'Light', 'CO2', 'HumidityRatio',\n",
              "       'Occupancy'],\n",
              "      dtype='object')"
            ]
          },
          "metadata": {
            "tags": []
          },
          "execution_count": 14
        }
      ]
    },
    {
      "cell_type": "markdown",
      "metadata": {
        "id": "bHly1UIUwwxk",
        "colab_type": "text"
      },
      "source": [
        "Посмотрим общую характеристику текущего набора"
      ]
    },
    {
      "cell_type": "code",
      "metadata": {
        "id": "jlULJKD6wwV7",
        "colab_type": "code",
        "colab": {
          "base_uri": "https://localhost:8080/",
          "height": 225
        },
        "outputId": "89df7f89-2fb9-4d05-d098-c9349919b002"
      },
      "source": [
        "data.info()"
      ],
      "execution_count": 15,
      "outputs": [
        {
          "output_type": "stream",
          "text": [
            "<class 'pandas.core.frame.DataFrame'>\n",
            "Int64Index: 2665 entries, 140 to 2804\n",
            "Data columns (total 7 columns):\n",
            "date             2665 non-null object\n",
            "Temperature      2665 non-null float64\n",
            "Humidity         2665 non-null float64\n",
            "Light            2665 non-null float64\n",
            "CO2              2665 non-null float64\n",
            "HumidityRatio    2665 non-null float64\n",
            "Occupancy        2665 non-null int64\n",
            "dtypes: float64(5), int64(1), object(1)\n",
            "memory usage: 166.6+ KB\n"
          ],
          "name": "stdout"
        }
      ]
    },
    {
      "cell_type": "code",
      "metadata": {
        "id": "5_hG-jzHv8h9",
        "colab_type": "code",
        "colab": {
          "base_uri": "https://localhost:8080/",
          "height": 300
        },
        "outputId": "156831e4-6ea3-4a9e-cb95-003449c2d8d5"
      },
      "source": [
        "data.describe()"
      ],
      "execution_count": 10,
      "outputs": [
        {
          "output_type": "execute_result",
          "data": {
            "text/html": [
              "<div>\n",
              "<style scoped>\n",
              "    .dataframe tbody tr th:only-of-type {\n",
              "        vertical-align: middle;\n",
              "    }\n",
              "\n",
              "    .dataframe tbody tr th {\n",
              "        vertical-align: top;\n",
              "    }\n",
              "\n",
              "    .dataframe thead th {\n",
              "        text-align: right;\n",
              "    }\n",
              "</style>\n",
              "<table border=\"1\" class=\"dataframe\">\n",
              "  <thead>\n",
              "    <tr style=\"text-align: right;\">\n",
              "      <th></th>\n",
              "      <th>Temperature</th>\n",
              "      <th>Humidity</th>\n",
              "      <th>Light</th>\n",
              "      <th>CO2</th>\n",
              "      <th>HumidityRatio</th>\n",
              "      <th>Occupancy</th>\n",
              "    </tr>\n",
              "  </thead>\n",
              "  <tbody>\n",
              "    <tr>\n",
              "      <th>count</th>\n",
              "      <td>2665.000000</td>\n",
              "      <td>2665.000000</td>\n",
              "      <td>2665.000000</td>\n",
              "      <td>2665.000000</td>\n",
              "      <td>2665.000000</td>\n",
              "      <td>2665.000000</td>\n",
              "    </tr>\n",
              "    <tr>\n",
              "      <th>mean</th>\n",
              "      <td>21.433876</td>\n",
              "      <td>25.353937</td>\n",
              "      <td>193.227556</td>\n",
              "      <td>717.906470</td>\n",
              "      <td>0.004027</td>\n",
              "      <td>0.364728</td>\n",
              "    </tr>\n",
              "    <tr>\n",
              "      <th>std</th>\n",
              "      <td>1.028024</td>\n",
              "      <td>2.436842</td>\n",
              "      <td>250.210906</td>\n",
              "      <td>292.681718</td>\n",
              "      <td>0.000611</td>\n",
              "      <td>0.481444</td>\n",
              "    </tr>\n",
              "    <tr>\n",
              "      <th>min</th>\n",
              "      <td>20.200000</td>\n",
              "      <td>22.100000</td>\n",
              "      <td>0.000000</td>\n",
              "      <td>427.500000</td>\n",
              "      <td>0.003303</td>\n",
              "      <td>0.000000</td>\n",
              "    </tr>\n",
              "    <tr>\n",
              "      <th>25%</th>\n",
              "      <td>20.650000</td>\n",
              "      <td>23.260000</td>\n",
              "      <td>0.000000</td>\n",
              "      <td>466.000000</td>\n",
              "      <td>0.003529</td>\n",
              "      <td>0.000000</td>\n",
              "    </tr>\n",
              "    <tr>\n",
              "      <th>50%</th>\n",
              "      <td>20.890000</td>\n",
              "      <td>25.000000</td>\n",
              "      <td>0.000000</td>\n",
              "      <td>580.500000</td>\n",
              "      <td>0.003815</td>\n",
              "      <td>0.000000</td>\n",
              "    </tr>\n",
              "    <tr>\n",
              "      <th>75%</th>\n",
              "      <td>22.356667</td>\n",
              "      <td>26.856667</td>\n",
              "      <td>442.500000</td>\n",
              "      <td>956.333333</td>\n",
              "      <td>0.004532</td>\n",
              "      <td>1.000000</td>\n",
              "    </tr>\n",
              "    <tr>\n",
              "      <th>max</th>\n",
              "      <td>24.408333</td>\n",
              "      <td>31.472500</td>\n",
              "      <td>1697.250000</td>\n",
              "      <td>1402.250000</td>\n",
              "      <td>0.005378</td>\n",
              "      <td>1.000000</td>\n",
              "    </tr>\n",
              "  </tbody>\n",
              "</table>\n",
              "</div>"
            ],
            "text/plain": [
              "       Temperature     Humidity  ...  HumidityRatio    Occupancy\n",
              "count  2665.000000  2665.000000  ...    2665.000000  2665.000000\n",
              "mean     21.433876    25.353937  ...       0.004027     0.364728\n",
              "std       1.028024     2.436842  ...       0.000611     0.481444\n",
              "min      20.200000    22.100000  ...       0.003303     0.000000\n",
              "25%      20.650000    23.260000  ...       0.003529     0.000000\n",
              "50%      20.890000    25.000000  ...       0.003815     0.000000\n",
              "75%      22.356667    26.856667  ...       0.004532     1.000000\n",
              "max      24.408333    31.472500  ...       0.005378     1.000000\n",
              "\n",
              "[8 rows x 6 columns]"
            ]
          },
          "metadata": {
            "tags": []
          },
          "execution_count": 10
        }
      ]
    },
    {
      "cell_type": "markdown",
      "metadata": {
        "id": "vnsrqIrRxM5O",
        "colab_type": "text"
      },
      "source": [
        "Построим матрицу ковариации"
      ]
    },
    {
      "cell_type": "code",
      "metadata": {
        "id": "Ol642BwzwB2S",
        "colab_type": "code",
        "colab": {
          "base_uri": "https://localhost:8080/",
          "height": 1000
        },
        "outputId": "0b092142-48fd-4f35-c02d-bd2feb323333"
      },
      "source": [
        "from pandas.plotting import scatter_matrix\n",
        "\n",
        "\n",
        "scatter_matrix(data, alpha = .01, figsize = (10, 10))"
      ],
      "execution_count": 13,
      "outputs": [
        {
          "output_type": "execute_result",
          "data": {
            "text/plain": [
              "array([[<matplotlib.axes._subplots.AxesSubplot object at 0x7f63b69d5d68>,\n",
              "        <matplotlib.axes._subplots.AxesSubplot object at 0x7f63b699ca58>,\n",
              "        <matplotlib.axes._subplots.AxesSubplot object at 0x7f63b6946fd0>,\n",
              "        <matplotlib.axes._subplots.AxesSubplot object at 0x7f63b68f6588>,\n",
              "        <matplotlib.axes._subplots.AxesSubplot object at 0x7f63b691da90>,\n",
              "        <matplotlib.axes._subplots.AxesSubplot object at 0x7f63b68cd048>],\n",
              "       [<matplotlib.axes._subplots.AxesSubplot object at 0x7f63b68755c0>,\n",
              "        <matplotlib.axes._subplots.AxesSubplot object at 0x7f63b689ab70>,\n",
              "        <matplotlib.axes._subplots.AxesSubplot object at 0x7f63b689aba8>,\n",
              "        <matplotlib.axes._subplots.AxesSubplot object at 0x7f63b67f0668>,\n",
              "        <matplotlib.axes._subplots.AxesSubplot object at 0x7f63b6816be0>,\n",
              "        <matplotlib.axes._subplots.AxesSubplot object at 0x7f63b67c7198>],\n",
              "       [<matplotlib.axes._subplots.AxesSubplot object at 0x7f63b676f710>,\n",
              "        <matplotlib.axes._subplots.AxesSubplot object at 0x7f63b6795c88>,\n",
              "        <matplotlib.axes._subplots.AxesSubplot object at 0x7f63b6745240>,\n",
              "        <matplotlib.axes._subplots.AxesSubplot object at 0x7f63b676a7b8>,\n",
              "        <matplotlib.axes._subplots.AxesSubplot object at 0x7f63b6710d30>,\n",
              "        <matplotlib.axes._subplots.AxesSubplot object at 0x7f63b66c32e8>],\n",
              "       [<matplotlib.axes._subplots.AxesSubplot object at 0x7f63b66e6860>,\n",
              "        <matplotlib.axes._subplots.AxesSubplot object at 0x7f63b668fdd8>,\n",
              "        <matplotlib.axes._subplots.AxesSubplot object at 0x7f63b663f390>,\n",
              "        <matplotlib.axes._subplots.AxesSubplot object at 0x7f63b6666908>,\n",
              "        <matplotlib.axes._subplots.AxesSubplot object at 0x7f63b660de80>,\n",
              "        <matplotlib.axes._subplots.AxesSubplot object at 0x7f63b65bd438>],\n",
              "       [<matplotlib.axes._subplots.AxesSubplot object at 0x7f63b65e29b0>,\n",
              "        <matplotlib.axes._subplots.AxesSubplot object at 0x7f63b658cf28>,\n",
              "        <matplotlib.axes._subplots.AxesSubplot object at 0x7f63b653c4e0>,\n",
              "        <matplotlib.axes._subplots.AxesSubplot object at 0x7f63b6561a58>,\n",
              "        <matplotlib.axes._subplots.AxesSubplot object at 0x7f63b6508fd0>,\n",
              "        <matplotlib.axes._subplots.AxesSubplot object at 0x7f63b64ba588>],\n",
              "       [<matplotlib.axes._subplots.AxesSubplot object at 0x7f63b64deb00>,\n",
              "        <matplotlib.axes._subplots.AxesSubplot object at 0x7f63b648e0b8>,\n",
              "        <matplotlib.axes._subplots.AxesSubplot object at 0x7f63b6435630>,\n",
              "        <matplotlib.axes._subplots.AxesSubplot object at 0x7f63b645aba8>,\n",
              "        <matplotlib.axes._subplots.AxesSubplot object at 0x7f63b640d160>,\n",
              "        <matplotlib.axes._subplots.AxesSubplot object at 0x7f63b63b16d8>]],\n",
              "      dtype=object)"
            ]
          },
          "metadata": {
            "tags": []
          },
          "execution_count": 13
        },
        {
          "output_type": "display_data",
          "data": {
            "image/png": "[encoded data removed]",
            "text/plain": [
              "<Figure size 720x720 with 36 Axes>"
            ]
          },
          "metadata": {
            "tags": []
          }
        }
      ]
    },
    {
      "cell_type": "code",
      "metadata": {
        "id": "sh8wymPmw-8w",
        "colab_type": "code",
        "colab": {
          "base_uri": "https://localhost:8080/",
          "height": 237
        },
        "outputId": "a3102f62-d769-406f-bfb0-a73eff7da6b0"
      },
      "source": [
        "data.corr()"
      ],
      "execution_count": 16,
      "outputs": [
        {
          "output_type": "execute_result",
          "data": {
            "text/html": [
              "<div>\n",
              "<style scoped>\n",
              "    .dataframe tbody tr th:only-of-type {\n",
              "        vertical-align: middle;\n",
              "    }\n",
              "\n",
              "    .dataframe tbody tr th {\n",
              "        vertical-align: top;\n",
              "    }\n",
              "\n",
              "    .dataframe thead th {\n",
              "        text-align: right;\n",
              "    }\n",
              "</style>\n",
              "<table border=\"1\" class=\"dataframe\">\n",
              "  <thead>\n",
              "    <tr style=\"text-align: right;\">\n",
              "      <th></th>\n",
              "      <th>Temperature</th>\n",
              "      <th>Humidity</th>\n",
              "      <th>Light</th>\n",
              "      <th>CO2</th>\n",
              "      <th>HumidityRatio</th>\n",
              "      <th>Occupancy</th>\n",
              "    </tr>\n",
              "  </thead>\n",
              "  <tbody>\n",
              "    <tr>\n",
              "      <th>Temperature</th>\n",
              "      <td>1.000000</td>\n",
              "      <td>0.716988</td>\n",
              "      <td>0.768428</td>\n",
              "      <td>0.870226</td>\n",
              "      <td>0.894548</td>\n",
              "      <td>0.705784</td>\n",
              "    </tr>\n",
              "    <tr>\n",
              "      <th>Humidity</th>\n",
              "      <td>0.716988</td>\n",
              "      <td>1.000000</td>\n",
              "      <td>0.561905</td>\n",
              "      <td>0.911611</td>\n",
              "      <td>0.951914</td>\n",
              "      <td>0.610764</td>\n",
              "    </tr>\n",
              "    <tr>\n",
              "      <th>Light</th>\n",
              "      <td>0.768428</td>\n",
              "      <td>0.561905</td>\n",
              "      <td>1.000000</td>\n",
              "      <td>0.769167</td>\n",
              "      <td>0.693286</td>\n",
              "      <td>0.927949</td>\n",
              "    </tr>\n",
              "    <tr>\n",
              "      <th>CO2</th>\n",
              "      <td>0.870226</td>\n",
              "      <td>0.911611</td>\n",
              "      <td>0.769167</td>\n",
              "      <td>1.000000</td>\n",
              "      <td>0.964440</td>\n",
              "      <td>0.768030</td>\n",
              "    </tr>\n",
              "    <tr>\n",
              "      <th>HumidityRatio</th>\n",
              "      <td>0.894548</td>\n",
              "      <td>0.951914</td>\n",
              "      <td>0.693286</td>\n",
              "      <td>0.964440</td>\n",
              "      <td>1.000000</td>\n",
              "      <td>0.700330</td>\n",
              "    </tr>\n",
              "    <tr>\n",
              "      <th>Occupancy</th>\n",
              "      <td>0.705784</td>\n",
              "      <td>0.610764</td>\n",
              "      <td>0.927949</td>\n",
              "      <td>0.768030</td>\n",
              "      <td>0.700330</td>\n",
              "      <td>1.000000</td>\n",
              "    </tr>\n",
              "  </tbody>\n",
              "</table>\n",
              "</div>"
            ],
            "text/plain": [
              "               Temperature  Humidity  ...  HumidityRatio  Occupancy\n",
              "Temperature       1.000000  0.716988  ...       0.894548   0.705784\n",
              "Humidity          0.716988  1.000000  ...       0.951914   0.610764\n",
              "Light             0.768428  0.561905  ...       0.693286   0.927949\n",
              "CO2               0.870226  0.911611  ...       0.964440   0.768030\n",
              "HumidityRatio     0.894548  0.951914  ...       1.000000   0.700330\n",
              "Occupancy         0.705784  0.610764  ...       0.700330   1.000000\n",
              "\n",
              "[6 rows x 6 columns]"
            ]
          },
          "metadata": {
            "tags": []
          },
          "execution_count": 16
        }
      ]
    },
    {
      "cell_type": "code",
      "metadata": {
        "id": "wEcQ_GOhxeBh",
        "colab_type": "code",
        "colab": {
          "base_uri": "https://localhost:8080/",
          "height": 1000
        },
        "outputId": "e8d440ba-ddcd-4b1b-8146-fb7b0b652ead"
      },
      "source": [
        "data['Temperature'].unique()"
      ],
      "execution_count": 17,
      "outputs": [
        {
          "output_type": "execute_result",
          "data": {
            "text/plain": [
              "array([23.7       , 23.718     , 23.73      , 23.7225    , 23.754     ,\n",
              "       23.76      , 23.736     , 23.745     , 23.6       , 23.64      ,\n",
              "       23.65      , 23.625     , 23.61666667, 23.66666667, 23.575     ,\n",
              "       23.54      , 23.525     , 23.5       , 23.445     , 23.39      ,\n",
              "       23.37      , 23.37333333, 23.32333333, 23.365     , 23.29      ,\n",
              "       23.30666667, 23.272     , 23.2       , 23.23      , 23.215     ,\n",
              "       23.14      , 23.15      , 23.18      , 23.11666667, 23.1       ,\n",
              "       23.06      , 23.02      , 23.01      , 23.        , 22.98166667,\n",
              "       22.945     , 22.956     , 22.9725    , 22.912     , 22.89      ,\n",
              "       22.865     , 22.87333333, 22.815     , 22.84      , 22.79      ,\n",
              "       22.772     , 22.76      , 22.7       , 22.7225    , 22.68      ,\n",
              "       22.64      , 22.6       , 22.66666667, 22.62      , 22.625     ,\n",
              "       22.65      , 22.56      , 22.58      , 22.575     , 22.55      ,\n",
              "       22.56666667, 22.525     , 22.54      , 22.5       , 22.52      ,\n",
              "       22.478     , 22.456     , 22.4175    , 22.39      , 22.35      ,\n",
              "       22.32333333, 22.365     , 22.315     , 22.29      , 22.26      ,\n",
              "       22.254     , 22.23      , 22.2       , 22.13333333, 22.1       ,\n",
              "       22.15      , 22.06666667, 22.        , 21.978     , 21.945     ,\n",
              "       21.92666667, 21.89      , 21.815     , 21.82333333, 21.79      ,\n",
              "       21.7675    , 21.754     , 21.7       , 21.64      , 21.6       ,\n",
              "       21.5       , 21.55      , 21.4725    , 21.39      , 21.42666667,\n",
              "       21.365     , 21.32333333, 21.34      , 21.315     , 21.35666667,\n",
              "       21.29      , 21.254     , 21.23      , 21.218     , 21.2       ,\n",
              "       21.175     , 21.16666667, 21.125     , 21.1       , 21.13333333,\n",
              "       21.075     , 21.03333333, 21.02      , 21.025     , 21.        ,\n",
              "       20.9725    , 20.96333333, 20.89      , 20.9175    , 20.912     ,\n",
              "       20.92666667, 20.934     , 20.945     , 20.85666667, 20.865     ,\n",
              "       20.87      , 20.85      , 20.81      , 20.79      , 20.82333333,\n",
              "       20.772     , 20.73      , 20.745     , 20.76      , 20.7225    ,\n",
              "       20.7675    , 20.7       , 20.718     , 20.736     , 20.675     ,\n",
              "       20.66666667, 20.625     , 20.65      , 20.64      , 20.63333333,\n",
              "       20.6       , 20.575     , 20.58      , 20.55      , 20.56666667,\n",
              "       20.525     , 20.53333333, 20.56      , 20.52      , 20.5       ,\n",
              "       20.46333333, 20.478     , 20.456     , 20.42666667, 20.4175    ,\n",
              "       20.4725    , 20.445     , 20.434     , 20.39      , 20.35      ,\n",
              "       20.365     , 20.34      , 20.315     , 20.35666667, 20.29      ,\n",
              "       20.32333333, 20.272     , 20.26      , 20.2675    , 20.37      ,\n",
              "       20.245     , 20.236     , 20.2       , 20.218     , 20.2225    ,\n",
              "       20.31      , 20.33      , 20.754     , 20.775     , 20.815     ,\n",
              "       20.84      , 20.83      , 20.87333333, 20.978     , 21.15      ,\n",
              "       21.18333333, 21.236     , 21.2225    , 21.245     , 21.26      ,\n",
              "       21.30666667, 21.31      , 21.35      , 21.4175    , 21.412     ,\n",
              "       21.456     , 21.48166667, 21.54      , 21.625     , 21.66      ,\n",
              "       21.68333333, 21.65      , 21.718     , 21.76      , 21.73      ,\n",
              "       21.775     , 21.77714286, 21.84      , 21.87      , 21.912     ,\n",
              "       21.90833333, 21.934     , 21.98166667, 22.025     , 22.06      ,\n",
              "       22.05      , 22.08      , 22.08333333, 22.11666667, 22.16666667,\n",
              "       22.18      , 22.16      , 22.175     , 22.18333333, 22.2225    ,\n",
              "       22.245     , 22.272     , 22.30666667, 22.33      , 22.434     ,\n",
              "       22.42666667, 22.675     , 22.745     , 22.87      , 22.90833333,\n",
              "       22.96333333, 23.025     , 23.05      , 23.2225    , 23.26      ,\n",
              "       23.2675    , 23.245     , 23.254     , 23.18571429, 23.18333333,\n",
              "       23.175     , 23.218     , 23.33      , 23.35      , 23.315     ,\n",
              "       23.31857143, 23.30428571, 23.236     , 23.125     , 23.08571429,\n",
              "       23.06666667, 23.01666667, 22.96857143, 22.9175    , 22.92666667,\n",
              "       22.93714286, 22.934     , 22.7675    , 22.73      , 22.715     ,\n",
              "       22.736     , 22.718     , 22.66      , 22.445     , 22.35666667,\n",
              "       22.2675    , 22.125     , 21.9175    , 21.96333333, 21.81      ,\n",
              "       21.7225    , 21.675     , 21.63333333, 21.58      , 21.56      ,\n",
              "       21.53333333, 21.16      , 21.06      , 21.06666667, 21.08      ,\n",
              "       21.05      , 20.68      , 20.66      , 20.62      , 20.61666667,\n",
              "       20.54      , 20.48166667, 20.71285714, 20.956     , 21.08333333,\n",
              "       21.11666667, 21.215     , 21.272     , 21.865     , 22.08571429,\n",
              "       22.14      , 22.82333333, 23.31      , 23.456     , 23.58      ,\n",
              "       23.79      , 23.89      , 23.98428571, 24.        , 24.05      ,\n",
              "       24.08      , 24.1       , 24.175     , 24.2       , 24.218     ,\n",
              "       24.26      , 24.29      , 24.33      , 24.35666667, 24.40833333])"
            ]
          },
          "metadata": {
            "tags": []
          },
          "execution_count": 17
        }
      ]
    },
    {
      "cell_type": "markdown",
      "metadata": {
        "id": "hs-G4KGWx0C8",
        "colab_type": "text"
      },
      "source": [
        "Разделим имеющиеся столбцы на категориальные и на числовые"
      ]
    },
    {
      "cell_type": "code",
      "metadata": {
        "id": "OWln2ISyx0_4",
        "colab_type": "code",
        "colab": {}
      },
      "source": [
        "categorical_columns = [c for c in data.columns if data[c].dtype.name == 'object']\n",
        "numerical_columns   = [c for c in data.columns if data[c].dtype.name != 'object']"
      ],
      "execution_count": 0,
      "outputs": []
    },
    {
      "cell_type": "code",
      "metadata": {
        "id": "JsVPGQNEyMtW",
        "colab_type": "code",
        "colab": {
          "base_uri": "https://localhost:8080/",
          "height": 34
        },
        "outputId": "0bf16362-3a3c-4cad-fc44-e454bcd4f15d"
      },
      "source": [
        "categorical_columns"
      ],
      "execution_count": 19,
      "outputs": [
        {
          "output_type": "execute_result",
          "data": {
            "text/plain": [
              "['date']"
            ]
          },
          "metadata": {
            "tags": []
          },
          "execution_count": 19
        }
      ]
    },
    {
      "cell_type": "code",
      "metadata": {
        "id": "EiDO4LWbyOqJ",
        "colab_type": "code",
        "colab": {
          "base_uri": "https://localhost:8080/",
          "height": 34
        },
        "outputId": "a7cc8580-8990-4839-a36e-9685d76c24ae"
      },
      "source": [
        "numerical_columns"
      ],
      "execution_count": 20,
      "outputs": [
        {
          "output_type": "execute_result",
          "data": {
            "text/plain": [
              "['Temperature', 'Humidity', 'Light', 'CO2', 'HumidityRatio', 'Occupancy']"
            ]
          },
          "metadata": {
            "tags": []
          },
          "execution_count": 20
        }
      ]
    },
    {
      "cell_type": "markdown",
      "metadata": {
        "id": "tErLF3smyY40",
        "colab_type": "text"
      },
      "source": [
        "Найдем пропуски в данных"
      ]
    },
    {
      "cell_type": "code",
      "metadata": {
        "id": "lbvTOek4ydgg",
        "colab_type": "code",
        "colab": {
          "base_uri": "https://localhost:8080/",
          "height": 139
        },
        "outputId": "301cf165-cd36-49be-a608-abd9d29b4122"
      },
      "source": [
        "data[numerical_columns].count(axis = 0)"
      ],
      "execution_count": 21,
      "outputs": [
        {
          "output_type": "execute_result",
          "data": {
            "text/plain": [
              "Temperature      2665\n",
              "Humidity         2665\n",
              "Light            2665\n",
              "CO2              2665\n",
              "HumidityRatio    2665\n",
              "Occupancy        2665\n",
              "dtype: int64"
            ]
          },
          "metadata": {
            "tags": []
          },
          "execution_count": 21
        }
      ]
    },
    {
      "cell_type": "markdown",
      "metadata": {
        "id": "sk1gHmEhyjqZ",
        "colab_type": "text"
      },
      "source": [
        "Очень хорошие данные) Пропусков нет"
      ]
    },
    {
      "cell_type": "markdown",
      "metadata": {
        "id": "x7A3fF3rzAbu",
        "colab_type": "text"
      },
      "source": [
        "## Векторизация"
      ]
    },
    {
      "cell_type": "code",
      "metadata": {
        "id": "rLfe6o_nzKVE",
        "colab_type": "code",
        "colab": {}
      },
      "source": [
        "categorical_columns = pd.get_dummies(data[categorical_columns])"
      ],
      "execution_count": 0,
      "outputs": []
    },
    {
      "cell_type": "code",
      "metadata": {
        "id": "_sQYnnswzipn",
        "colab_type": "code",
        "colab": {
          "base_uri": "https://localhost:8080/",
          "height": 225
        },
        "outputId": "a3298838-9a19-44c8-d777-8cf064925aa7"
      },
      "source": [
        "categorical_columns.columns"
      ],
      "execution_count": 27,
      "outputs": [
        {
          "output_type": "execute_result",
          "data": {
            "text/plain": [
              "Index(['date_2015-02-02 14:19:00', 'date_2015-02-02 14:19:59',\n",
              "       'date_2015-02-02 14:21:00', 'date_2015-02-02 14:22:00',\n",
              "       'date_2015-02-02 14:23:00', 'date_2015-02-02 14:23:59',\n",
              "       'date_2015-02-02 14:25:00', 'date_2015-02-02 14:25:59',\n",
              "       'date_2015-02-02 14:26:59', 'date_2015-02-02 14:28:00',\n",
              "       ...\n",
              "       'date_2015-02-04 10:34:00', 'date_2015-02-04 10:34:59',\n",
              "       'date_2015-02-04 10:36:00', 'date_2015-02-04 10:37:00',\n",
              "       'date_2015-02-04 10:38:00', 'date_2015-02-04 10:38:59',\n",
              "       'date_2015-02-04 10:40:00', 'date_2015-02-04 10:40:59',\n",
              "       'date_2015-02-04 10:41:59', 'date_2015-02-04 10:43:00'],\n",
              "      dtype='object', length=2665)"
            ]
          },
          "metadata": {
            "tags": []
          },
          "execution_count": 27
        }
      ]
    },
    {
      "cell_type": "markdown",
      "metadata": {
        "id": "98oJQqHG1QiS",
        "colab_type": "text"
      },
      "source": [
        "В данном случае имеется один категориальный признак - дата. Применять OneHotEncoder к нему не имеет смысла - получим огромное число столбцов, но никак не улучшим качество предсказаний. Лучше сделаем дату индексом нашей таблицы."
      ]
    },
    {
      "cell_type": "code",
      "metadata": {
        "id": "RiPguPvW1wIu",
        "colab_type": "code",
        "colab": {}
      },
      "source": [
        "data.set_index('date', inplace=True)"
      ],
      "execution_count": 0,
      "outputs": []
    },
    {
      "cell_type": "markdown",
      "metadata": {
        "id": "n48ijOUc0N3J",
        "colab_type": "text"
      },
      "source": [
        "## Нормализация количественных признаков"
      ]
    },
    {
      "cell_type": "code",
      "metadata": {
        "id": "sEspunn-0P-P",
        "colab_type": "code",
        "colab": {
          "base_uri": "https://localhost:8080/",
          "height": 300
        },
        "outputId": "cec1e4f7-9f86-4142-fec5-12af32b630a6"
      },
      "source": [
        "data_numerical = data[numerical_columns]\n",
        "data_numerical.describe()"
      ],
      "execution_count": 28,
      "outputs": [
        {
          "output_type": "execute_result",
          "data": {
            "text/html": [
              "<div>\n",
              "<style scoped>\n",
              "    .dataframe tbody tr th:only-of-type {\n",
              "        vertical-align: middle;\n",
              "    }\n",
              "\n",
              "    .dataframe tbody tr th {\n",
              "        vertical-align: top;\n",
              "    }\n",
              "\n",
              "    .dataframe thead th {\n",
              "        text-align: right;\n",
              "    }\n",
              "</style>\n",
              "<table border=\"1\" class=\"dataframe\">\n",
              "  <thead>\n",
              "    <tr style=\"text-align: right;\">\n",
              "      <th></th>\n",
              "      <th>Temperature</th>\n",
              "      <th>Humidity</th>\n",
              "      <th>Light</th>\n",
              "      <th>CO2</th>\n",
              "      <th>HumidityRatio</th>\n",
              "      <th>Occupancy</th>\n",
              "    </tr>\n",
              "  </thead>\n",
              "  <tbody>\n",
              "    <tr>\n",
              "      <th>count</th>\n",
              "      <td>2665.000000</td>\n",
              "      <td>2665.000000</td>\n",
              "      <td>2665.000000</td>\n",
              "      <td>2665.000000</td>\n",
              "      <td>2665.000000</td>\n",
              "      <td>2665.000000</td>\n",
              "    </tr>\n",
              "    <tr>\n",
              "      <th>mean</th>\n",
              "      <td>21.433876</td>\n",
              "      <td>25.353937</td>\n",
              "      <td>193.227556</td>\n",
              "      <td>717.906470</td>\n",
              "      <td>0.004027</td>\n",
              "      <td>0.364728</td>\n",
              "    </tr>\n",
              "    <tr>\n",
              "      <th>std</th>\n",
              "      <td>1.028024</td>\n",
              "      <td>2.436842</td>\n",
              "      <td>250.210906</td>\n",
              "      <td>292.681718</td>\n",
              "      <td>0.000611</td>\n",
              "      <td>0.481444</td>\n",
              "    </tr>\n",
              "    <tr>\n",
              "      <th>min</th>\n",
              "      <td>20.200000</td>\n",
              "      <td>22.100000</td>\n",
              "      <td>0.000000</td>\n",
              "      <td>427.500000</td>\n",
              "      <td>0.003303</td>\n",
              "      <td>0.000000</td>\n",
              "    </tr>\n",
              "    <tr>\n",
              "      <th>25%</th>\n",
              "      <td>20.650000</td>\n",
              "      <td>23.260000</td>\n",
              "      <td>0.000000</td>\n",
              "      <td>466.000000</td>\n",
              "      <td>0.003529</td>\n",
              "      <td>0.000000</td>\n",
              "    </tr>\n",
              "    <tr>\n",
              "      <th>50%</th>\n",
              "      <td>20.890000</td>\n",
              "      <td>25.000000</td>\n",
              "      <td>0.000000</td>\n",
              "      <td>580.500000</td>\n",
              "      <td>0.003815</td>\n",
              "      <td>0.000000</td>\n",
              "    </tr>\n",
              "    <tr>\n",
              "      <th>75%</th>\n",
              "      <td>22.356667</td>\n",
              "      <td>26.856667</td>\n",
              "      <td>442.500000</td>\n",
              "      <td>956.333333</td>\n",
              "      <td>0.004532</td>\n",
              "      <td>1.000000</td>\n",
              "    </tr>\n",
              "    <tr>\n",
              "      <th>max</th>\n",
              "      <td>24.408333</td>\n",
              "      <td>31.472500</td>\n",
              "      <td>1697.250000</td>\n",
              "      <td>1402.250000</td>\n",
              "      <td>0.005378</td>\n",
              "      <td>1.000000</td>\n",
              "    </tr>\n",
              "  </tbody>\n",
              "</table>\n",
              "</div>"
            ],
            "text/plain": [
              "       Temperature     Humidity  ...  HumidityRatio    Occupancy\n",
              "count  2665.000000  2665.000000  ...    2665.000000  2665.000000\n",
              "mean     21.433876    25.353937  ...       0.004027     0.364728\n",
              "std       1.028024     2.436842  ...       0.000611     0.481444\n",
              "min      20.200000    22.100000  ...       0.003303     0.000000\n",
              "25%      20.650000    23.260000  ...       0.003529     0.000000\n",
              "50%      20.890000    25.000000  ...       0.003815     0.000000\n",
              "75%      22.356667    26.856667  ...       0.004532     1.000000\n",
              "max      24.408333    31.472500  ...       0.005378     1.000000\n",
              "\n",
              "[8 rows x 6 columns]"
            ]
          },
          "metadata": {
            "tags": []
          },
          "execution_count": 28
        }
      ]
    },
    {
      "cell_type": "markdown",
      "metadata": {
        "id": "ZWZHb71o2YPl",
        "colab_type": "text"
      },
      "source": [
        "Все признаки количественные, нормализуем всю таблицу"
      ]
    },
    {
      "cell_type": "code",
      "metadata": {
        "id": "TOHXyf2_0do3",
        "colab_type": "code",
        "colab": {}
      },
      "source": [
        "data = (data - data.mean(axis = 0)) / data.std(axis = 0)"
      ],
      "execution_count": 0,
      "outputs": []
    },
    {
      "cell_type": "code",
      "metadata": {
        "id": "gSr7EJEQ0ozL",
        "colab_type": "code",
        "colab": {
          "base_uri": "https://localhost:8080/",
          "height": 300
        },
        "outputId": "899dfcae-be42-4123-bbfb-a658e440d783"
      },
      "source": [
        "data.describe()"
      ],
      "execution_count": 48,
      "outputs": [
        {
          "output_type": "execute_result",
          "data": {
            "text/html": [
              "<div>\n",
              "<style scoped>\n",
              "    .dataframe tbody tr th:only-of-type {\n",
              "        vertical-align: middle;\n",
              "    }\n",
              "\n",
              "    .dataframe tbody tr th {\n",
              "        vertical-align: top;\n",
              "    }\n",
              "\n",
              "    .dataframe thead th {\n",
              "        text-align: right;\n",
              "    }\n",
              "</style>\n",
              "<table border=\"1\" class=\"dataframe\">\n",
              "  <thead>\n",
              "    <tr style=\"text-align: right;\">\n",
              "      <th></th>\n",
              "      <th>Temperature</th>\n",
              "      <th>Humidity</th>\n",
              "      <th>Light</th>\n",
              "      <th>CO2</th>\n",
              "      <th>HumidityRatio</th>\n",
              "      <th>Occupancy</th>\n",
              "    </tr>\n",
              "  </thead>\n",
              "  <tbody>\n",
              "    <tr>\n",
              "      <th>count</th>\n",
              "      <td>2.665000e+03</td>\n",
              "      <td>2.665000e+03</td>\n",
              "      <td>2.665000e+03</td>\n",
              "      <td>2.665000e+03</td>\n",
              "      <td>2.665000e+03</td>\n",
              "      <td>2.665000e+03</td>\n",
              "    </tr>\n",
              "    <tr>\n",
              "      <th>mean</th>\n",
              "      <td>3.319024e-13</td>\n",
              "      <td>1.344833e-14</td>\n",
              "      <td>8.348544e-17</td>\n",
              "      <td>1.243950e-16</td>\n",
              "      <td>6.466264e-14</td>\n",
              "      <td>3.324920e-15</td>\n",
              "    </tr>\n",
              "    <tr>\n",
              "      <th>std</th>\n",
              "      <td>1.000000e+00</td>\n",
              "      <td>1.000000e+00</td>\n",
              "      <td>1.000000e+00</td>\n",
              "      <td>1.000000e+00</td>\n",
              "      <td>1.000000e+00</td>\n",
              "      <td>1.000000e+00</td>\n",
              "    </tr>\n",
              "    <tr>\n",
              "      <th>min</th>\n",
              "      <td>-1.200241e+00</td>\n",
              "      <td>-1.335309e+00</td>\n",
              "      <td>-7.722587e-01</td>\n",
              "      <td>-9.922262e-01</td>\n",
              "      <td>-1.185274e+00</td>\n",
              "      <td>-7.575707e-01</td>\n",
              "    </tr>\n",
              "    <tr>\n",
              "      <th>25%</th>\n",
              "      <td>-7.625076e-01</td>\n",
              "      <td>-8.592828e-01</td>\n",
              "      <td>-7.722587e-01</td>\n",
              "      <td>-8.606840e-01</td>\n",
              "      <td>-8.148558e-01</td>\n",
              "      <td>-7.575707e-01</td>\n",
              "    </tr>\n",
              "    <tr>\n",
              "      <th>50%</th>\n",
              "      <td>-5.290501e-01</td>\n",
              "      <td>-1.452440e-01</td>\n",
              "      <td>-7.722587e-01</td>\n",
              "      <td>-4.694740e-01</td>\n",
              "      <td>-3.471171e-01</td>\n",
              "      <td>-7.575707e-01</td>\n",
              "    </tr>\n",
              "    <tr>\n",
              "      <th>75%</th>\n",
              "      <td>8.976349e-01</td>\n",
              "      <td>6.166709e-01</td>\n",
              "      <td>9.962493e-01</td>\n",
              "      <td>8.146285e-01</td>\n",
              "      <td>8.263135e-01</td>\n",
              "      <td>1.319514e+00</td>\n",
              "    </tr>\n",
              "    <tr>\n",
              "      <th>max</th>\n",
              "      <td>2.893373e+00</td>\n",
              "      <td>2.510857e+00</td>\n",
              "      <td>6.011019e+00</td>\n",
              "      <td>2.338183e+00</td>\n",
              "      <td>2.212265e+00</td>\n",
              "      <td>1.319514e+00</td>\n",
              "    </tr>\n",
              "  </tbody>\n",
              "</table>\n",
              "</div>"
            ],
            "text/plain": [
              "        Temperature      Humidity  ...  HumidityRatio     Occupancy\n",
              "count  2.665000e+03  2.665000e+03  ...   2.665000e+03  2.665000e+03\n",
              "mean   3.319024e-13  1.344833e-14  ...   6.466264e-14  3.324920e-15\n",
              "std    1.000000e+00  1.000000e+00  ...   1.000000e+00  1.000000e+00\n",
              "min   -1.200241e+00 -1.335309e+00  ...  -1.185274e+00 -7.575707e-01\n",
              "25%   -7.625076e-01 -8.592828e-01  ...  -8.148558e-01 -7.575707e-01\n",
              "50%   -5.290501e-01 -1.452440e-01  ...  -3.471171e-01 -7.575707e-01\n",
              "75%    8.976349e-01  6.166709e-01  ...   8.263135e-01  1.319514e+00\n",
              "max    2.893373e+00  2.510857e+00  ...   2.212265e+00  1.319514e+00\n",
              "\n",
              "[8 rows x 6 columns]"
            ]
          },
          "metadata": {
            "tags": []
          },
          "execution_count": 48
        }
      ]
    },
    {
      "cell_type": "markdown",
      "metadata": {
        "id": "tPXoB4XG2tkR",
        "colab_type": "text"
      },
      "source": [
        "## X и y"
      ]
    },
    {
      "cell_type": "code",
      "metadata": {
        "id": "eMnA6S-W2u_6",
        "colab_type": "code",
        "colab": {}
      },
      "source": [
        "X = data.drop(('Occupancy'), axis = 1) # выбрасываем столбец 'Occupancy'\n",
        "y = data['Occupancy']\n",
        "feature_names = X.columns"
      ],
      "execution_count": 0,
      "outputs": []
    },
    {
      "cell_type": "code",
      "metadata": {
        "id": "AwYA1O_T3FOK",
        "colab_type": "code",
        "colab": {
          "base_uri": "https://localhost:8080/",
          "height": 34
        },
        "outputId": "32399c1f-b9bd-44d3-8640-2f5ec9fb44a0"
      },
      "source": [
        "type(feature_names)"
      ],
      "execution_count": 50,
      "outputs": [
        {
          "output_type": "execute_result",
          "data": {
            "text/plain": [
              "pandas.core.indexes.base.Index"
            ]
          },
          "metadata": {
            "tags": []
          },
          "execution_count": 50
        }
      ]
    },
    {
      "cell_type": "code",
      "metadata": {
        "id": "An839QKf3GVE",
        "colab_type": "code",
        "colab": {
          "base_uri": "https://localhost:8080/",
          "height": 34
        },
        "outputId": "3fb2887c-dc0b-4c63-c79e-bc9114a64ca2"
      },
      "source": [
        "feature_names"
      ],
      "execution_count": 51,
      "outputs": [
        {
          "output_type": "execute_result",
          "data": {
            "text/plain": [
              "Index(['Temperature', 'Humidity', 'Light', 'CO2', 'HumidityRatio'], dtype='object')"
            ]
          },
          "metadata": {
            "tags": []
          },
          "execution_count": 51
        }
      ]
    },
    {
      "cell_type": "code",
      "metadata": {
        "id": "bmWkJp5a3K2E",
        "colab_type": "code",
        "colab": {
          "base_uri": "https://localhost:8080/",
          "height": 34
        },
        "outputId": "f1566b38-6c52-4054-9bc9-36182c0457b9"
      },
      "source": [
        "X.shape"
      ],
      "execution_count": 52,
      "outputs": [
        {
          "output_type": "execute_result",
          "data": {
            "text/plain": [
              "(2665, 5)"
            ]
          },
          "metadata": {
            "tags": []
          },
          "execution_count": 52
        }
      ]
    },
    {
      "cell_type": "code",
      "metadata": {
        "id": "7sWQ3ehJ3LQE",
        "colab_type": "code",
        "colab": {
          "base_uri": "https://localhost:8080/",
          "height": 34
        },
        "outputId": "22405920-e1b8-44b4-e3b3-60d500688038"
      },
      "source": [
        "y.shape"
      ],
      "execution_count": 53,
      "outputs": [
        {
          "output_type": "execute_result",
          "data": {
            "text/plain": [
              "(2665,)"
            ]
          },
          "metadata": {
            "tags": []
          },
          "execution_count": 53
        }
      ]
    },
    {
      "cell_type": "code",
      "metadata": {
        "id": "N2pz9IWs3b0B",
        "colab_type": "code",
        "colab": {
          "base_uri": "https://localhost:8080/",
          "height": 34
        },
        "outputId": "fd46daa2-d6d7-4dda-fdda-fb7843b1825c"
      },
      "source": [
        "from sklearn.model_selection import train_test_split\n",
        "\n",
        "\n",
        "X_train, X_test, y_train, y_test = train_test_split(X, y, test_size = 0.3, random_state = 42)"
      ],
      "execution_count": 54,
      "outputs": [
        {
          "output_type": "stream",
          "text": [
            "1865 800\n"
          ],
          "name": "stdout"
        }
      ]
    },
    {
      "cell_type": "code",
      "metadata": {
        "id": "z2vq2o0S3iak",
        "colab_type": "code",
        "colab": {
          "base_uri": "https://localhost:8080/",
          "height": 34
        },
        "outputId": "11ebef8f-65a3-4a24-9ad3-6ebb36f12c5c"
      },
      "source": [
        "X_train.shape \n"
      ],
      "execution_count": 55,
      "outputs": [
        {
          "output_type": "execute_result",
          "data": {
            "text/plain": [
              "(1865, 5)"
            ]
          },
          "metadata": {
            "tags": []
          },
          "execution_count": 55
        }
      ]
    },
    {
      "cell_type": "code",
      "metadata": {
        "id": "SqZfzVfl3lSP",
        "colab_type": "code",
        "colab": {
          "base_uri": "https://localhost:8080/",
          "height": 34
        },
        "outputId": "881736ae-293a-44e8-d71a-50761c782e67"
      },
      "source": [
        "X_test.shape "
      ],
      "execution_count": 56,
      "outputs": [
        {
          "output_type": "execute_result",
          "data": {
            "text/plain": [
              "(800, 5)"
            ]
          },
          "metadata": {
            "tags": []
          },
          "execution_count": 56
        }
      ]
    }
  ]
}
